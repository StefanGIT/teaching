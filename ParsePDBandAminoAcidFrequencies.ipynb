{
  "nbformat": 4,
  "nbformat_minor": 0,
  "metadata": {
    "colab": {
      "provenance": []
    },
    "kernelspec": {
      "name": "python3",
      "display_name": "Python 3"
    },
    "language_info": {
      "name": "python"
    }
  },
  "cells": [
    {
      "cell_type": "markdown",
      "source": [
        "## 1. PDB Format and Parsing\n",
        "While some other bioinformatics file formats online include mainly sequence data, the PDB file format provides an assortmet of information including:\n",
        "\n",
        "Amino acid sequence\n",
        "\n",
        "Non-amino acid species\n",
        "\n",
        "xyz coordinates of atoms indentified in structure (does not typically include hydrogens)\n",
        "\n",
        "Metadata about the protein (e.g., host specie and enzyme class)\n",
        "\n",
        "Information about helix and sheet secondary structures\n",
        "\n",
        "PDB files are text files with the data arranged with specific labels and seperated by strictly-delineated position in a line in the file. For more information on PDB file formats, see https://www.cgl.ucsf.edu/chimera/docs/UsersGuide/tutorials/pdbintro.html.\n",
        "\n",
        "Be sure to run the following code cell.\n",
        "\n"
      ],
      "metadata": {
        "id": "aXjBppDWo6jS"
      }
    },
    {
      "cell_type": "code",
      "execution_count": null,
      "metadata": {
        "colab": {
          "base_uri": "https://localhost:8080/"
        },
        "id": "1PB32Hxfo4pq",
        "outputId": "ba51ae50-9d0d-484a-be14-cf826104cf9a"
      },
      "outputs": [
        {
          "output_type": "stream",
          "name": "stdout",
          "text": [
            "--2023-12-21 14:25:40--  https://mcm.h-its.org/wiki/lib/exe/fetch.php?media=googlecolab:bicourse.zip\n",
            "Resolving mcm.h-its.org (mcm.h-its.org)... 193.197.73.80\n",
            "Connecting to mcm.h-its.org (mcm.h-its.org)|193.197.73.80|:443... connected.\n",
            "HTTP request sent, awaiting response... 200 OK\n",
            "Length: 7435049 (7.1M) [application/zip]\n",
            "Saving to: ‘bicourse.zip’\n",
            "\n",
            "bicourse.zip        100%[===================>]   7.09M  7.05MB/s    in 1.0s    \n",
            "\n",
            "2023-12-21 14:25:41 (7.05 MB/s) - ‘bicourse.zip’ saved [7435049/7435049]\n",
            "\n",
            "--2023-12-21 14:25:41--  https://mcm.h-its.org/wiki/lib/exe/fetch.php?media=googlecolab:peptide3.txt\n",
            "Resolving mcm.h-its.org (mcm.h-its.org)... 193.197.73.80\n",
            "Connecting to mcm.h-its.org (mcm.h-its.org)|193.197.73.80|:443... connected.\n",
            "HTTP request sent, awaiting response... 200 OK\n",
            "Length: 1458 (1.4K) [text/plain]\n",
            "Saving to: ‘peptide3.txt’\n",
            "\n",
            "peptide3.txt        100%[===================>]   1.42K  --.-KB/s    in 0s      \n",
            "\n",
            "2023-12-21 14:25:42 (157 MB/s) - ‘peptide3.txt’ saved [1458/1458]\n",
            "\n"
          ]
        }
      ],
      "source": [
        "!pip -q install Biopython\n",
        "!pip -q install matplotlib\n",
        "!pip -q install py3Dmol\n",
        "\n",
        "import warnings\n",
        "from Bio import BiopythonWarning\n",
        "warnings.simplefilter('ignore', BiopythonWarning)\n",
        "\n",
        "import os\n",
        "\n",
        "import matplotlib.pyplot as plt\n",
        "%matplotlib inline\n",
        "import seaborn as sns\n",
        "import pandas as pd\n",
        "\n",
        "import Bio.PDB\n",
        "!wget -nc -O bicourse.zip https://mcm.h-its.org/wiki/lib/exe/fetch.php?media=googlecolab:bicourse.zip\n",
        "!wget -nc -O peptide3.txt https://mcm.h-its.org/wiki/lib/exe/fetch.php?media=googlecolab:peptide3.txt\n",
        "!unzip -oq bicourse.zip"
      ]
    },
    {
      "cell_type": "markdown",
      "source": [
        "## 2. Parsing PDB Files\n",
        "There are multiple ways of parsing data (i.e., seperating data into pieces) from the PDB files. In this activity, we will use the biopython library’s PDB reading capabilities. First, we need to import the PDB module of the biopython library with the import Bio.PDB import command.\n",
        "\n",
        "\n",
        "```\n",
        "ATOM    220  N   GLY    31       3.984  11.764  10.241  1.00  4.99      1CRN 289\n",
        "ATOM    221  CA  GLY    31       4.769  12.336  11.360  1.00  5.50      1CRN 290\n",
        "ATOM    222  C   GLY    31       6.255  12.243  11.106  1.00  4.19      1CRN 291\n",
        "ATOM    223  O   GLY    31       7.037  12.750  11.954  1.00  6.12      1CRN 292\n",
        "ATOM    224  N   CYS    32       6.710  11.631   9.992  1.00  4.30      1CRN 293\n",
        "ATOM    225  CA  CYS    32       8.140  11.694   9.635  1.00  4.89      1CRN 294\n",
        "ATOM    226  C   CYS    32       8.500  13.141   9.206  1.00  5.50      1CRN 295\n",
        "\n",
        "```\n",
        "Parsing allows the computer program to access the columns and rows with individual variables.\n",
        "\n"
      ],
      "metadata": {
        "id": "Uc3y8AsSo5Zw"
      }
    },
    {
      "cell_type": "code",
      "source": [
        "parser = Bio.PDB.PDBParser()\n",
        "parser = Bio.PDB.PDBParser()\n",
        "structure = parser.get_structure('6x8j', '6x8j.pdb')"
      ],
      "metadata": {
        "id": "2EG50DY_wkMX"
      },
      "execution_count": null,
      "outputs": []
    },
    {
      "cell_type": "markdown",
      "source": [
        "##3. Structure of the Data\n",
        "The structural data extracted from the PDB by biopython is organized in a hierarchy starting with the\n",
        "\n",
        "**structure** -> **model** -> **chain** -> **residue** -> **atom**\n",
        "\n",
        " The structure is the protein, the model is a particular 3D model of the protein, the chain is a single peptide chain in the protein, the residue is an amino acid residue in the chain, and the atom is each atom within a given chain.\n",
        "\n"
      ],
      "metadata": {
        "id": "QgFJpdX2xPt3"
      }
    },
    {
      "cell_type": "code",
      "source": [
        "protein_model = structure[0]\n",
        "\n",
        "for chain in protein_model:\n",
        "    print(chain)"
      ],
      "metadata": {
        "colab": {
          "base_uri": "https://localhost:8080/"
        },
        "id": "84mF9KYyxB2Z",
        "outputId": "bc45b9ec-8807-451b-d945-316c3c624b7b"
      },
      "execution_count": null,
      "outputs": [
        {
          "output_type": "stream",
          "name": "stdout",
          "text": [
            "<Chain id=A>\n",
            "<Chain id=C>\n",
            "<Chain id=B>\n",
            "<Chain id=D>\n",
            "<Chain id=E>\n",
            "<Chain id=F>\n"
          ]
        }
      ]
    },
    {
      "cell_type": "code",
      "source": [
        "chain_A = protein_model['A']\n",
        "res = chain_A[58]\n",
        "res"
      ],
      "metadata": {
        "colab": {
          "base_uri": "https://localhost:8080/"
        },
        "id": "dqMBfyCYx1M8",
        "outputId": "9fe6fa40-ecd4-42dd-d242-a464bdcc757a"
      },
      "execution_count": null,
      "outputs": [
        {
          "output_type": "execute_result",
          "data": {
            "text/plain": [
              "<Residue TYR het=  resseq=58 icode= >"
            ]
          },
          "metadata": {},
          "execution_count": 6
        }
      ]
    },
    {
      "cell_type": "code",
      "source": [
        "res.get_unpacked_list()"
      ],
      "metadata": {
        "colab": {
          "base_uri": "https://localhost:8080/"
        },
        "id": "XxJmq5I4x4rc",
        "outputId": "53bd472b-0f29-4275-db8b-e7aea29cf3ee"
      },
      "execution_count": null,
      "outputs": [
        {
          "output_type": "execute_result",
          "data": {
            "text/plain": [
              "[<Atom N>,\n",
              " <Atom CA>,\n",
              " <Atom C>,\n",
              " <Atom O>,\n",
              " <Atom CB>,\n",
              " <Atom CG>,\n",
              " <Atom CD1>,\n",
              " <Atom CD2>,\n",
              " <Atom CE1>,\n",
              " <Atom CE2>,\n",
              " <Atom CZ>,\n",
              " <Atom OH>]"
            ]
          },
          "metadata": {},
          "execution_count": 7
        }
      ]
    },
    {
      "cell_type": "markdown",
      "source": [
        "##4. Examining Amino Acid Frequency\n",
        "a. All Amino Acids in Protein\n",
        "Next, we will look at and visualize the amino acid residue distribution in our protein. Below is code that you can run that iterates through the peptides and adds each amino acid residue identity to a list called amino_acids."
      ],
      "metadata": {
        "id": "P1fPYKkxyDIw"
      }
    },
    {
      "cell_type": "code",
      "source": [
        "def get_aa(file):\n",
        "    '''Accepts a PDB files name (string) and returns a list of residues\n",
        "    that occur in a peptide.\n",
        "\n",
        "     >>> ('1abc.pdb') -> ['GLY', 'ALA', 'LYS']\n",
        "    '''\n",
        "\n",
        "    amino_acids = []  # empty list to add the amino acids to\n",
        "\n",
        "    parser = Bio.PDB.PDBParser()\n",
        "    structure = parser.get_structure('6x8j', '6x8j.pdb')\n",
        "    pp = Bio.PDB.PPBuilder().build_peptides(structure[0])\n",
        "\n",
        "    # go through each chain and residue and append the amino acid identity to the list\n",
        "    for chain in pp:\n",
        "        for res in chain:\n",
        "            res_name = res.get_resname()\n",
        "            amino_acids.append(res_name)\n",
        "\n",
        "    return amino_acids\n",
        "\n",
        "amino_acids = get_aa('6x8j.pdb')"
      ],
      "metadata": {
        "id": "hKPXhxwLx9wq"
      },
      "execution_count": null,
      "outputs": []
    },
    {
      "cell_type": "markdown",
      "source": [
        "###Visualization Using a countplot()\n",
        "Next, we will visualize the above data using the seaborn plotting library’s sns.coutplot() function. This plotting function takes in the data and tallies the number of occurances of each value in the data. In this case, the data are stored in the variable sense."
      ],
      "metadata": {
        "id": "hWMKwPmjypcw"
      }
    },
    {
      "cell_type": "code",
      "source": [
        "sns.countplot(x=amino_acids, color='C00')\n",
        "plt.xticks(rotation=45)\n",
        "plt.show()\n"
      ],
      "metadata": {
        "colab": {
          "base_uri": "https://localhost:8080/",
          "height": 447
        },
        "id": "_U0oTARXyYEC",
        "outputId": "1540b084-285d-4a41-dea2-01c85ba7091d"
      },
      "execution_count": null,
      "outputs": [
        {
          "output_type": "display_data",
          "data": {
            "text/plain": [
              "<Figure size 640x480 with 1 Axes>"
            ],
            "image/png": "[encoded data removed]"
          },
          "metadata": {}
        }
      ]
    },
    {
      "cell_type": "markdown",
      "source": [
        "## 5. Amino Acids in Helicies and Sheets\n",
        "Next, we will harvest lists of amino acids residues that occur at the start of a helix or sheet. Note: not all helicies are\n",
        "alpha-helicies as there are a fare number of\n",
        "3/10-helices in this dataset as well."
      ],
      "metadata": {
        "id": "sXf_qK99y_bC"
      }
    },
    {
      "cell_type": "code",
      "source": [
        "def get_helix_start(file):\n",
        "    '''Accepts a PDB files name (string) and returns a list of residues\n",
        "    that occur at the start of a helix.\n",
        "\n",
        "     >>> ('1abc.pdb') -> ['GLY', 'ALA', 'LYS']\n",
        "    '''\n",
        "\n",
        "    AA_list = []\n",
        "\n",
        "    with open(file, 'r') as f:\n",
        "        for line in f:\n",
        "            if line.startswith('HELIX'):\n",
        "                AA_list.append(line[15:18])\n",
        "\n",
        "    return AA_list\n",
        "\n",
        "def get_sheet_start(file):\n",
        "    '''Accepts a PDB files name (string) and returns a list of residues\n",
        "    that occur at the start of a sheet.\n",
        "\n",
        "     >>> ('1abc.pdb') -> ['GLY', 'ALA', 'LYS']\n",
        "    '''\n",
        "\n",
        "    AA_list = []\n",
        "\n",
        "    with open(file, 'r') as f:\n",
        "        for line in f:\n",
        "            if line.startswith('SHEET'):\n",
        "                AA_list.append(line[17:20])\n",
        "\n",
        "\n",
        "    return AA_list\n",
        "top80='top80'\n",
        "helix_start = []\n",
        "sheet_start = []\n",
        "general = []\n",
        "\n",
        "for file in os.listdir(top80):\n",
        "    if file.endswith('pdb'):\n",
        "        helix_start.extend(get_helix_start(os.path.join(top80,file)))\n",
        "        sheet_start.extend(get_sheet_start(os.path.join(top80,file)))\n",
        "        general.extend(get_aa(os.path.join(top80,file)))\n"
      ],
      "metadata": {
        "id": "oj16hVy1yb-C"
      },
      "execution_count": null,
      "outputs": []
    },
    {
      "cell_type": "markdown",
      "source": [
        "## Let’s now plot the result."
      ],
      "metadata": {
        "id": "UVynCTLp0tkA"
      }
    },
    {
      "cell_type": "code",
      "source": [
        "sns.countplot(x=helix_start, palette='viridis')\n",
        "plt.xticks(rotation=90)\n",
        "plt.show()"
      ],
      "metadata": {
        "colab": {
          "base_uri": "https://localhost:8080/",
          "height": 446
        },
        "id": "ad-i8RwfzTNr",
        "outputId": "767695e7-eb8d-422d-d566-04478fc5e1d2"
      },
      "execution_count": null,
      "outputs": [
        {
          "output_type": "display_data",
          "data": {
            "text/plain": [
              "<Figure size 640x480 with 1 Axes>"
            ],
            "image/png": "[encoded data removed]"
          },
          "metadata": {}
        }
      ]
    },
    {
      "cell_type": "markdown",
      "source": [
        "We can combine the two lists of amino acids and plot them in the same plot to better see how the occurance of the amino acids appear at the start of different secondary structures."
      ],
      "metadata": {
        "id": "B53atcvm1SOD"
      }
    },
    {
      "cell_type": "code",
      "source": [
        "import pandas as pd\n",
        "\n",
        "#df_aa = pd.DataFrame([general, len(general) *['general']]).transpose()\n",
        "df_hel = pd.DataFrame([helix_start, len(helix_start) *['helix_start']]).transpose()\n",
        "df_beta = pd.DataFrame([sheet_start, len(sheet_start) *['sheet_start']]).transpose()\n",
        "\n",
        "df = pd.concat((df_hel, df_beta))\n",
        "df.columns = ['amino_acid', 'location']\n",
        "\n",
        "df"
      ],
      "metadata": {
        "colab": {
          "base_uri": "https://localhost:8080/",
          "height": 424
        },
        "id": "H-bYu9Q50yjr",
        "outputId": "3739a212-0d8f-471e-b3a0-8b58b868c9a5"
      },
      "execution_count": null,
      "outputs": [
        {
          "output_type": "execute_result",
          "data": {
            "text/plain": [
              "     amino_acid     location\n",
              "0           ASP  helix_start\n",
              "1           LEU  helix_start\n",
              "2           VAL  helix_start\n",
              "3           GLN  helix_start\n",
              "4           SER  helix_start\n",
              "...         ...          ...\n",
              "1726        VAL  sheet_start\n",
              "1727        LEU  sheet_start\n",
              "1728        TYR  sheet_start\n",
              "1729        SER  sheet_start\n",
              "1730        TYR  sheet_start\n",
              "\n",
              "[3279 rows x 2 columns]"
            ],
            "text/html": [
              "\n",
              "  <div id=\"df-80adf7e1-fb77-4577-806c-085f3c4936f3\" class=\"colab-df-container\">\n",
              "    <div>\n",
              "<style scoped>\n",
              "    .dataframe tbody tr th:only-of-type {\n",
              "        vertical-align: middle;\n",
              "    }\n",
              "\n",
              "    .dataframe tbody tr th {\n",
              "        vertical-align: top;\n",
              "    }\n",
              "\n",
              "    .dataframe thead th {\n",
              "        text-align: right;\n",
              "    }\n",
              "</style>\n",
              "<table border=\"1\" class=\"dataframe\">\n",
              "  <thead>\n",
              "    <tr style=\"text-align: right;\">\n",
              "      <th></th>\n",
              "      <th>amino_acid</th>\n",
              "      <th>location</th>\n",
              "    </tr>\n",
              "  </thead>\n",
              "  <tbody>\n",
              "    <tr>\n",
              "      <th>0</th>\n",
              "      <td>ASP</td>\n",
              "      <td>helix_start</td>\n",
              "    </tr>\n",
              "    <tr>\n",
              "      <th>1</th>\n",
              "      <td>LEU</td>\n",
              "      <td>helix_start</td>\n",
              "    </tr>\n",
              "    <tr>\n",
              "      <th>2</th>\n",
              "      <td>VAL</td>\n",
              "      <td>helix_start</td>\n",
              "    </tr>\n",
              "    <tr>\n",
              "      <th>3</th>\n",
              "      <td>GLN</td>\n",
              "      <td>helix_start</td>\n",
              "    </tr>\n",
              "    <tr>\n",
              "      <th>4</th>\n",
              "      <td>SER</td>\n",
              "      <td>helix_start</td>\n",
              "    </tr>\n",
              "    <tr>\n",
              "      <th>...</th>\n",
              "      <td>...</td>\n",
              "      <td>...</td>\n",
              "    </tr>\n",
              "    <tr>\n",
              "      <th>1726</th>\n",
              "      <td>VAL</td>\n",
              "      <td>sheet_start</td>\n",
              "    </tr>\n",
              "    <tr>\n",
              "      <th>1727</th>\n",
              "      <td>LEU</td>\n",
              "      <td>sheet_start</td>\n",
              "    </tr>\n",
              "    <tr>\n",
              "      <th>1728</th>\n",
              "      <td>TYR</td>\n",
              "      <td>sheet_start</td>\n",
              "    </tr>\n",
              "    <tr>\n",
              "      <th>1729</th>\n",
              "      <td>SER</td>\n",
              "      <td>sheet_start</td>\n",
              "    </tr>\n",
              "    <tr>\n",
              "      <th>1730</th>\n",
              "      <td>TYR</td>\n",
              "      <td>sheet_start</td>\n",
              "    </tr>\n",
              "  </tbody>\n",
              "</table>\n",
              "<p>3279 rows × 2 columns</p>\n",
              "</div>\n",
              "    <div class=\"colab-df-buttons\">\n",
              "\n",
              "  <div class=\"colab-df-container\">\n",
              "    <button class=\"colab-df-convert\" onclick=\"convertToInteractive('df-80adf7e1-fb77-4577-806c-085f3c4936f3')\"\n",
              "            title=\"Convert this dataframe to an interactive table.\"\n",
              "            style=\"display:none;\">\n",
              "\n",
              "  <svg xmlns=\"http://www.w3.org/2000/svg\" height=\"24px\" viewBox=\"0 -960 960 960\">\n",
              "    <path d=\"M120-120v-720h720v720H120Zm60-500h600v-160H180v160Zm220 220h160v-160H400v160Zm0 220h160v-160H400v160ZM180-400h160v-160H180v160Zm440 0h160v-160H620v160ZM180-180h160v-160H180v160Zm440 0h160v-160H620v160Z\"/>\n",
              "  </svg>\n",
              "    </button>\n",
              "\n",
              "  <style>\n",
              "    .colab-df-container {\n",
              "      display:flex;\n",
              "      gap: 12px;\n",
              "    }\n",
              "\n",
              "    .colab-df-convert {\n",
              "      background-color: #E8F0FE;\n",
              "      border: none;\n",
              "      border-radius: 50%;\n",
              "      cursor: pointer;\n",
              "      display: none;\n",
              "      fill: #1967D2;\n",
              "      height: 32px;\n",
              "      padding: 0 0 0 0;\n",
              "      width: 32px;\n",
              "    }\n",
              "\n",
              "    .colab-df-convert:hover {\n",
              "      background-color: #E2EBFA;\n",
              "      box-shadow: 0px 1px 2px rgba(60, 64, 67, 0.3), 0px 1px 3px 1px rgba(60, 64, 67, 0.15);\n",
              "      fill: #174EA6;\n",
              "    }\n",
              "\n",
              "    .colab-df-buttons div {\n",
              "      margin-bottom: 4px;\n",
              "    }\n",
              "\n",
              "    [theme=dark] .colab-df-convert {\n",
              "      background-color: #3B4455;\n",
              "      fill: #D2E3FC;\n",
              "    }\n",
              "\n",
              "    [theme=dark] .colab-df-convert:hover {\n",
              "      background-color: #434B5C;\n",
              "      box-shadow: 0px 1px 3px 1px rgba(0, 0, 0, 0.15);\n",
              "      filter: drop-shadow(0px 1px 2px rgba(0, 0, 0, 0.3));\n",
              "      fill: #FFFFFF;\n",
              "    }\n",
              "  </style>\n",
              "\n",
              "    <script>\n",
              "      const buttonEl =\n",
              "        document.querySelector('#df-80adf7e1-fb77-4577-806c-085f3c4936f3 button.colab-df-convert');\n",
              "      buttonEl.style.display =\n",
              "        google.colab.kernel.accessAllowed ? 'block' : 'none';\n",
              "\n",
              "      async function convertToInteractive(key) {\n",
              "        const element = document.querySelector('#df-80adf7e1-fb77-4577-806c-085f3c4936f3');\n",
              "        const dataTable =\n",
              "          await google.colab.kernel.invokeFunction('convertToInteractive',\n",
              "                                                    [key], {});\n",
              "        if (!dataTable) return;\n",
              "\n",
              "        const docLinkHtml = 'Like what you see? Visit the ' +\n",
              "          '<a target=\"_blank\" href=https://colab.research.google.com/notebooks/data_table.ipynb>data table notebook</a>'\n",
              "          + ' to learn more about interactive tables.';\n",
              "        element.innerHTML = '';\n",
              "        dataTable['output_type'] = 'display_data';\n",
              "        await google.colab.output.renderOutput(dataTable, element);\n",
              "        const docLink = document.createElement('div');\n",
              "        docLink.innerHTML = docLinkHtml;\n",
              "        element.appendChild(docLink);\n",
              "      }\n",
              "    </script>\n",
              "  </div>\n",
              "\n",
              "\n",
              "<div id=\"df-a5ae95c0-30a8-4c11-9ff9-e0a570d47db3\">\n",
              "  <button class=\"colab-df-quickchart\" onclick=\"quickchart('df-a5ae95c0-30a8-4c11-9ff9-e0a570d47db3')\"\n",
              "            title=\"Suggest charts\"\n",
              "            style=\"display:none;\">\n",
              "\n",
              "<svg xmlns=\"http://www.w3.org/2000/svg\" height=\"24px\"viewBox=\"0 0 24 24\"\n",
              "     width=\"24px\">\n",
              "    <g>\n",
              "        <path d=\"M19 3H5c-1.1 0-2 .9-2 2v14c0 1.1.9 2 2 2h14c1.1 0 2-.9 2-2V5c0-1.1-.9-2-2-2zM9 17H7v-7h2v7zm4 0h-2V7h2v10zm4 0h-2v-4h2v4z\"/>\n",
              "    </g>\n",
              "</svg>\n",
              "  </button>\n",
              "\n",
              "<style>\n",
              "  .colab-df-quickchart {\n",
              "      --bg-color: #E8F0FE;\n",
              "      --fill-color: #1967D2;\n",
              "      --hover-bg-color: #E2EBFA;\n",
              "      --hover-fill-color: #174EA6;\n",
              "      --disabled-fill-color: #AAA;\n",
              "      --disabled-bg-color: #DDD;\n",
              "  }\n",
              "\n",
              "  [theme=dark] .colab-df-quickchart {\n",
              "      --bg-color: #3B4455;\n",
              "      --fill-color: #D2E3FC;\n",
              "      --hover-bg-color: #434B5C;\n",
              "      --hover-fill-color: #FFFFFF;\n",
              "      --disabled-bg-color: #3B4455;\n",
              "      --disabled-fill-color: #666;\n",
              "  }\n",
              "\n",
              "  .colab-df-quickchart {\n",
              "    background-color: var(--bg-color);\n",
              "    border: none;\n",
              "    border-radius: 50%;\n",
              "    cursor: pointer;\n",
              "    display: none;\n",
              "    fill: var(--fill-color);\n",
              "    height: 32px;\n",
              "    padding: 0;\n",
              "    width: 32px;\n",
              "  }\n",
              "\n",
              "  .colab-df-quickchart:hover {\n",
              "    background-color: var(--hover-bg-color);\n",
              "    box-shadow: 0 1px 2px rgba(60, 64, 67, 0.3), 0 1px 3px 1px rgba(60, 64, 67, 0.15);\n",
              "    fill: var(--button-hover-fill-color);\n",
              "  }\n",
              "\n",
              "  .colab-df-quickchart-complete:disabled,\n",
              "  .colab-df-quickchart-complete:disabled:hover {\n",
              "    background-color: var(--disabled-bg-color);\n",
              "    fill: var(--disabled-fill-color);\n",
              "    box-shadow: none;\n",
              "  }\n",
              "\n",
              "  .colab-df-spinner {\n",
              "    border: 2px solid var(--fill-color);\n",
              "    border-color: transparent;\n",
              "    border-bottom-color: var(--fill-color);\n",
              "    animation:\n",
              "      spin 1s steps(1) infinite;\n",
              "  }\n",
              "\n",
              "  @keyframes spin {\n",
              "    0% {\n",
              "      border-color: transparent;\n",
              "      border-bottom-color: var(--fill-color);\n",
              "      border-left-color: var(--fill-color);\n",
              "    }\n",
              "    20% {\n",
              "      border-color: transparent;\n",
              "      border-left-color: var(--fill-color);\n",
              "      border-top-color: var(--fill-color);\n",
              "    }\n",
              "    30% {\n",
              "      border-color: transparent;\n",
              "      border-left-color: var(--fill-color);\n",
              "      border-top-color: var(--fill-color);\n",
              "      border-right-color: var(--fill-color);\n",
              "    }\n",
              "    40% {\n",
              "      border-color: transparent;\n",
              "      border-right-color: var(--fill-color);\n",
              "      border-top-color: var(--fill-color);\n",
              "    }\n",
              "    60% {\n",
              "      border-color: transparent;\n",
              "      border-right-color: var(--fill-color);\n",
              "    }\n",
              "    80% {\n",
              "      border-color: transparent;\n",
              "      border-right-color: var(--fill-color);\n",
              "      border-bottom-color: var(--fill-color);\n",
              "    }\n",
              "    90% {\n",
              "      border-color: transparent;\n",
              "      border-bottom-color: var(--fill-color);\n",
              "    }\n",
              "  }\n",
              "</style>\n",
              "\n",
              "  <script>\n",
              "    async function quickchart(key) {\n",
              "      const quickchartButtonEl =\n",
              "        document.querySelector('#' + key + ' button');\n",
              "      quickchartButtonEl.disabled = true;  // To prevent multiple clicks.\n",
              "      quickchartButtonEl.classList.add('colab-df-spinner');\n",
              "      try {\n",
              "        const charts = await google.colab.kernel.invokeFunction(\n",
              "            'suggestCharts', [key], {});\n",
              "      } catch (error) {\n",
              "        console.error('Error during call to suggestCharts:', error);\n",
              "      }\n",
              "      quickchartButtonEl.classList.remove('colab-df-spinner');\n",
              "      quickchartButtonEl.classList.add('colab-df-quickchart-complete');\n",
              "    }\n",
              "    (() => {\n",
              "      let quickchartButtonEl =\n",
              "        document.querySelector('#df-a5ae95c0-30a8-4c11-9ff9-e0a570d47db3 button');\n",
              "      quickchartButtonEl.style.display =\n",
              "        google.colab.kernel.accessAllowed ? 'block' : 'none';\n",
              "    })();\n",
              "  </script>\n",
              "</div>\n",
              "    </div>\n",
              "  </div>\n"
            ]
          },
          "metadata": {},
          "execution_count": 27
        }
      ]
    },
    {
      "cell_type": "code",
      "source": [
        "sns.countplot(x=df['amino_acid'], hue=df['location'])\n",
        "plt.xticks(rotation=45)\n",
        "plt.show()"
      ],
      "metadata": {
        "colab": {
          "base_uri": "https://localhost:8080/",
          "height": 467
        },
        "id": "AM6El0961WA0",
        "outputId": "891c1270-c439-43d8-bc40-bc2233766fa6"
      },
      "execution_count": null,
      "outputs": [
        {
          "output_type": "display_data",
          "data": {
            "text/plain": [
              "<Figure size 640x480 with 1 Axes>"
            ],
            "image/png": "[encoded data removed]"
          },
          "metadata": {}
        }
      ]
    },
    {
      "cell_type": "code",
      "source": [],
      "metadata": {
        "id": "nBftkXG41bcF"
      },
      "execution_count": null,
      "outputs": []
    }
  ]
}